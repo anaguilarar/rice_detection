{
 "cells": [
  {
   "cell_type": "code",
   "execution_count": 15,
   "metadata": {},
   "outputs": [],
   "source": [
    "\n",
    "rm(list=ls())\n",
    "\n",
    "######### Load initial configuration\n",
    "\n",
    "source(paste0(\"D:/OneDrive - Universidad Nacional de Colombia/MScPhil/phen_identification/_scripts/R_Main_Functions_GrowCropIndentification.R\"))\n"
   ]
  },
  {
   "cell_type": "code",
   "execution_count": 16,
   "metadata": {},
   "outputs": [
    {
     "data": {
      "text/html": [
       "<ol>\n",
       "\t<li>TRUE</li>\n",
       "\t<li>TRUE</li>\n",
       "\t<li>TRUE</li>\n",
       "\t<li>TRUE</li>\n",
       "\t<li>TRUE</li>\n",
       "\t<li>TRUE</li>\n",
       "\t<li>TRUE</li>\n",
       "\t<li>TRUE</li>\n",
       "\t<li>TRUE</li>\n",
       "</ol>\n"
      ],
      "text/latex": [
       "\\begin{enumerate}\n",
       "\\item TRUE\n",
       "\\item TRUE\n",
       "\\item TRUE\n",
       "\\item TRUE\n",
       "\\item TRUE\n",
       "\\item TRUE\n",
       "\\item TRUE\n",
       "\\item TRUE\n",
       "\\item TRUE\n",
       "\\end{enumerate}\n"
      ],
      "text/markdown": [
       "1. TRUE\n",
       "2. TRUE\n",
       "3. TRUE\n",
       "4. TRUE\n",
       "5. TRUE\n",
       "6. TRUE\n",
       "7. TRUE\n",
       "8. TRUE\n",
       "9. TRUE\n",
       "\n",
       "\n"
      ],
      "text/plain": [
       "[[1]]\n",
       "[1] TRUE\n",
       "\n",
       "[[2]]\n",
       "[1] TRUE\n",
       "\n",
       "[[3]]\n",
       "[1] TRUE\n",
       "\n",
       "[[4]]\n",
       "[1] TRUE\n",
       "\n",
       "[[5]]\n",
       "[1] TRUE\n",
       "\n",
       "[[6]]\n",
       "[1] TRUE\n",
       "\n",
       "[[7]]\n",
       "[1] TRUE\n",
       "\n",
       "[[8]]\n",
       "[1] TRUE\n",
       "\n",
       "[[9]]\n",
       "[1] TRUE\n"
      ]
     },
     "metadata": {},
     "output_type": "display_data"
    }
   ],
   "source": [
    "### load functions\n",
    "\n",
    "libs=c(\"snowfall\",\"stringr\",\"raster\", \"rgdal\", \"signal\",\"parallel\",\"doParallel\" ,\"e1071\",\"randomForest\")\n",
    "PackageReading(libs)\n"
   ]
  },
  {
   "cell_type": "markdown",
   "metadata": {},
   "source": [
    "### 1. Updating satellite missions inventory\n",
    "\n",
    "in this section, the algorithm look for new images that were recently added. The inventory file is essential for running the model. this always qauery the images name in this file."
   ]
  },
  {
   "cell_type": "code",
   "execution_count": 27,
   "metadata": {},
   "outputs": [
    {
     "name": "stdout",
     "output_type": "stream",
     "text": [
      "L2A \n",
      "\n",
      "there is no new image to addLC08 \n",
      "\n",
      "there is no new image to addLE07 \n",
      "\n",
      "there is no new image to add"
     ]
    },
    {
     "data": {
      "text/html": [
       "<table>\n",
       "<thead><tr><th scope=col>Mission_Type</th><th scope=col>Date</th><th scope=col>BadPixels</th><th scope=col>NameImage</th><th scope=col>Delete</th></tr></thead>\n",
       "<tbody>\n",
       "\t<tr><td>NA           </td><td>1990-01-01   </td><td>100          </td><td>first_element</td><td>TRUE         </td></tr>\n",
       "</tbody>\n",
       "</table>\n"
      ],
      "text/latex": [
       "\\begin{tabular}{r|lllll}\n",
       " Mission\\_Type & Date & BadPixels & NameImage & Delete\\\\\n",
       "\\hline\n",
       "\t NA              & 1990-01-01      & 100             & first\\_element & TRUE           \\\\\n",
       "\\end{tabular}\n"
      ],
      "text/markdown": [
       "\n",
       "Mission_Type | Date | BadPixels | NameImage | Delete | \n",
       "|---|\n",
       "| NA            | 1990-01-01    | 100           | first_element | TRUE          | \n",
       "\n",
       "\n"
      ],
      "text/plain": [
       "  Mission_Type Date       BadPixels NameImage     Delete\n",
       "1 NA           1990-01-01 100       first_element TRUE  "
      ]
     },
     "metadata": {},
     "output_type": "display_data"
    }
   ],
   "source": [
    "### Set initial parameters\n",
    "## Set Locality Name\n",
    "\n",
    "tile = \"col_t5\"\n",
    "\n",
    "## quary dates\n",
    "\n",
    "start_date = \"2018-01-01\"\n",
    "end_date =\"2018-12-30\"\n",
    "\n",
    "missions=c(\"L2A\",\"LC08\",\"LE07\")\n",
    "\n",
    "for(Mission in missions){\n",
    "  \n",
    "  sat_Params=get_sat_list_parameters( Mission)\n",
    "  cat(Mission,\"\\n\")\n",
    "  update_inventory(sat_Params,tile,start_date,end_date)\n",
    "  \n",
    "}\n",
    "\n",
    "tail(get_inventory(tile))"
   ]
  },
  {
   "cell_type": "markdown",
   "metadata": {},
   "source": [
    "### 2. Map Rice phenological phases "
   ]
  },
  {
   "cell_type": "code",
   "execution_count": null,
   "metadata": {},
   "outputs": [],
   "source": [
    "#### Single date"
   ]
  },
  {
   "cell_type": "code",
   "execution_count": 26,
   "metadata": {},
   "outputs": [
    {
     "name": "stdout",
     "output_type": "stream",
     "text": [
      " : \n"
     ]
    },
    {
     "ename": "ERROR",
     "evalue": "Error in if (!sat_Params$Standar_bandNames[1] == \"\") {: argument is of length zero\n",
     "output_type": "error",
     "traceback": [
      "Error in if (!sat_Params$Standar_bandNames[1] == \"\") {: argument is of length zero\nTraceback:\n",
      "1. classify_growth_phasesperdate(tile, date_ofinterest, rice_fields_layerpath, \n .     pathtomodels = pathtomodels, output_pathimages, model_id = model_ref, \n .     PercMaxBadPixels = cloud_percentage)",
      "2. get_vi_layers(inventory = inventory, veg_indexes = indexes, startdate, \n .     enddate, PercMaxBadPixels = PercMaxBadPixels)",
      "3. get_optical_imagery(inventory, init_date = startdate, end_date = enddate, \n .     bands = bands_touse, bad_pixels_limit = PercMaxBadPixels)",
      "4. do.call(c, lapply(1:nrow(inventory), function(i) {\n .     sat_Params = get_sat_list_parameters(as.character(inventory$Mission_Type[i]))\n .     fname = do.call(c, lapply(inventory$NameImage[i], function(fname) paste0(fname, \n .         \".\", sat_Params$ExtImg)))\n .     if (remove_clouds) {\n .         satellite_image = Read_SatellitalImagery(fname, sat_Params, \n .             filter_bands = c(bands, cloud_bands))\n .         mask_sentence = get_mask_condition(sat_Params)\n .         satellite_image = RemoveClouds(imag = satellite_image[[1]], \n .             condition = mask_sentence, numbands = length(bands))\n .         satellite_image = list(satellite_image)\n .         names(satellite_image) = fname\n .     }\n .     else {\n .         satellite_image = Read_SatellitalImagery(fname, sat_Params, \n .             filter_bands = c(bands))\n .     }\n .     return(satellite_image)\n . }))",
      "5. lapply(1:nrow(inventory), function(i) {\n .     sat_Params = get_sat_list_parameters(as.character(inventory$Mission_Type[i]))\n .     fname = do.call(c, lapply(inventory$NameImage[i], function(fname) paste0(fname, \n .         \".\", sat_Params$ExtImg)))\n .     if (remove_clouds) {\n .         satellite_image = Read_SatellitalImagery(fname, sat_Params, \n .             filter_bands = c(bands, cloud_bands))\n .         mask_sentence = get_mask_condition(sat_Params)\n .         satellite_image = RemoveClouds(imag = satellite_image[[1]], \n .             condition = mask_sentence, numbands = length(bands))\n .         satellite_image = list(satellite_image)\n .         names(satellite_image) = fname\n .     }\n .     else {\n .         satellite_image = Read_SatellitalImagery(fname, sat_Params, \n .             filter_bands = c(bands))\n .     }\n .     return(satellite_image)\n . })",
      "6. FUN(X[[i]], ...)",
      "7. Read_SatellitalImagery(fname, sat_Params, filter_bands = c(bands, \n .     cloud_bands))"
     ]
    }
   ],
   "source": [
    "## initial parameters\n",
    "\n",
    "\n",
    "tile = \"col_t5\"\n",
    "date_ofinterest = \"2018-06-04\"\n",
    "\n",
    " #this file could be a raster or vector file, if it is raster please specify value1\n",
    "rice_fields_layerpath = \"D:/OneDrive - Universidad Nacional de Colombia/MScPhil/phen_identification/test_data/ibague/ibag_rice_fieldsraw.shp\"\n",
    "rice_layerval = NA\n",
    "\n",
    "cloud_percentage = 57\n",
    "pathtomodels = \"D:/OneDrive - Universidad Nacional de Colombia/MScPhil/phen_identification/classification_models/growth_phases/\"\n",
    "output_pathimages = \"D:/OneDrive - Universidad Nacional de Colombia/MScPhil/phen_identification/model_ouputs/growth_stages/\"\n",
    "model_ref = \"all\"\n",
    "\n",
    "classify_growth_phasesperdate (tile, date_ofinterest, rice_fields_layerpath, pathtomodels = pathtomodels, output_pathimages,\n",
    "                                         model_id = model_ref, PercMaxBadPixels=cloud_percentage)\n",
    "\n"
   ]
  }
 ],
 "metadata": {
  "kernelspec": {
   "display_name": "R",
   "language": "R",
   "name": "ir"
  },
  "language_info": {
   "codemirror_mode": "r",
   "file_extension": ".r",
   "mimetype": "text/x-r-source",
   "name": "R",
   "pygments_lexer": "r",
   "version": "3.4.3"
  }
 },
 "nbformat": 4,
 "nbformat_minor": 2
}
